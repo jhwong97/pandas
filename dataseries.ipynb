{
 "cells": [
  {
   "cell_type": "markdown",
   "id": "c9fc2ad7-c8df-4e22-8994-1c75b808bfe8",
   "metadata": {},
   "source": [
    "# Pandas Data Series Exercises\n",
    "\n",
    "All exercises are retrieved from https://www.w3resource.com/python-exercises/pandas/index.php"
   ]
  },
  {
   "cell_type": "code",
   "execution_count": 1,
   "id": "20dccd28-b871-42a4-be1c-e09169230d57",
   "metadata": {
    "tags": []
   },
   "outputs": [],
   "source": [
    "import numpy as np\n",
    "import pandas as pd\n",
    "\n",
    "def explain(a):\n",
    "    print(a.__doc__)"
   ]
  },
  {
   "cell_type": "markdown",
   "id": "0ee63567-1b98-4ae3-83e3-aa0adb415bc6",
   "metadata": {
    "tags": []
   },
   "source": [
    "1) Write a Pandas program to create and display a one-dimensional array-like object containing an array of data using Pandas module."
   ]
  },
  {
   "cell_type": "code",
   "execution_count": 2,
   "id": "d77a317c-d285-4b9d-9564-7b143a0ed29f",
   "metadata": {
    "tags": []
   },
   "outputs": [
    {
     "data": {
      "text/plain": [
       "a    1.0\n",
       "b    2.0\n",
       "c    3.0\n",
       "d    4.0\n",
       "e    5.0\n",
       "dtype: float64"
      ]
     },
     "execution_count": 2,
     "metadata": {},
     "output_type": "execute_result"
    }
   ],
   "source": [
    "s = pd.Series([1,2,3,4,5], index = ['a', 'b', 'c', 'd', 'e'], dtype=float)\n",
    "s"
   ]
  },
  {
   "cell_type": "markdown",
   "id": "5f463dab-2768-4c5a-9052-0a3feae5d148",
   "metadata": {
    "tags": []
   },
   "source": [
    "2) Write a Pandas program to convert a Panda module Series to Python list and it's type."
   ]
  },
  {
   "cell_type": "code",
   "execution_count": 3,
   "id": "8946a67a-7bbe-49f2-82cd-dc516608d695",
   "metadata": {
    "tags": []
   },
   "outputs": [
    {
     "name": "stdout",
     "output_type": "stream",
     "text": [
      "a    1.0\n",
      "b    2.0\n",
      "c    3.0\n",
      "d    4.0\n",
      "e    5.0\n",
      "dtype: float64\n",
      "<class 'pandas.core.series.Series'>\n",
      "[1.0, 2.0, 3.0, 4.0, 5.0]\n"
     ]
    }
   ],
   "source": [
    "# Create a one-dmensional array from panda Series\n",
    "s = pd.Series([1,2,3,4,5], index = ['a', 'b', 'c', 'd', 'e'], dtype=float)\n",
    "\n",
    "# Convert the panda Series to list using .tolist()\n",
    "s_list = s.tolist()\n",
    "\n",
    "print(s)\n",
    "print(type(s))\n",
    "print(s_list)"
   ]
  },
  {
   "cell_type": "markdown",
   "id": "81445699-92b9-41f2-8217-d1c3f7c6c0e8",
   "metadata": {
    "tags": []
   },
   "source": [
    "3) Write a Pandas program to add, subtract, multiple and divide two Pandas Series.\n",
    "\n",
    "Sample Series: [2, 4, 6, 8, 10], [1, 3, 5, 7, 9]"
   ]
  },
  {
   "cell_type": "code",
   "execution_count": 4,
   "id": "1f4ad709-04ea-443e-a782-92fca2d8b135",
   "metadata": {
    "tags": []
   },
   "outputs": [
    {
     "name": "stdout",
     "output_type": "stream",
     "text": [
      "0     3\n",
      "1     7\n",
      "2    11\n",
      "3    15\n",
      "4    19\n",
      "dtype: int64 \n",
      "\n",
      "0    1\n",
      "1    1\n",
      "2    1\n",
      "3    1\n",
      "4    1\n",
      "dtype: int64 \n",
      "\n",
      "0     2\n",
      "1    12\n",
      "2    30\n",
      "3    56\n",
      "4    90\n",
      "dtype: int64 \n",
      "\n",
      "0    2.000000\n",
      "1    1.333333\n",
      "2    1.200000\n",
      "3    1.142857\n",
      "4    1.111111\n",
      "dtype: float64 \n",
      "\n"
     ]
    }
   ],
   "source": [
    "s1 = pd.Series([2, 4, 6, 8, 10])\n",
    "s2 = pd.Series([1, 3, 5, 7, 9])\n",
    "\n",
    "out_add = s1 + s2\n",
    "out_sub = s1 - s2\n",
    "out_mul = s1 * s2\n",
    "out_div = s1 / s2\n",
    "\n",
    "ls = [out_add, out_sub, out_mul, out_div]\n",
    "for i in ls:\n",
    "    print(i, \"\\n\")"
   ]
  },
  {
   "cell_type": "markdown",
   "id": "16f7c0d5-40a4-445f-8aa0-3f54f6ca3fe3",
   "metadata": {},
   "source": [
    "4) Write a Pandas program to compare the elements of the Two Pandas Series\n",
    " Sample Series: [2, 4, 6, 8, 10], [1, 3, 5, 7, 10]"
   ]
  },
  {
   "cell_type": "code",
   "execution_count": 5,
   "id": "8a4a24a5-b4e2-42ec-941b-e368f4d9bb73",
   "metadata": {
    "tags": []
   },
   "outputs": [
    {
     "name": "stdout",
     "output_type": "stream",
     "text": [
      "Is s1 equal to s2?\n",
      "0    False\n",
      "1    False\n",
      "2    False\n",
      "3    False\n",
      "4     True\n",
      "dtype: bool \n",
      "\n",
      "Is s1 less than s2?\n",
      "0    False\n",
      "1    False\n",
      "2    False\n",
      "3    False\n",
      "4    False\n",
      "dtype: bool \n",
      "\n",
      "Is s1 more than s2?\n",
      "0     True\n",
      "1     True\n",
      "2     True\n",
      "3     True\n",
      "4    False\n",
      "dtype: bool \n",
      "\n"
     ]
    }
   ],
   "source": [
    "s1 = pd.Series([2, 4, 6, 8, 10])\n",
    "s2 = pd.Series([1, 3, 5, 7, 10])\n",
    "\n",
    "# Conduct the comparison with \"==\", \">\" and \"<\"\n",
    "print(\"Is s1 equal to s2?\")\n",
    "print(s1 == s2, \"\\n\")\n",
    "print(\"Is s1 less than s2?\")\n",
    "print(s1 < s2, \"\\n\")\n",
    "print(\"Is s1 more than s2?\")\n",
    "print(s1 > s2, \"\\n\")"
   ]
  },
  {
   "cell_type": "markdown",
   "id": "e3d03d7b-7efb-47d1-9126-6332c8fbd179",
   "metadata": {
    "tags": []
   },
   "source": [
    "5. Write a Pandas program to convert a dictionary to a Pandas series"
   ]
  },
  {
   "cell_type": "code",
   "execution_count": 6,
   "id": "ade09883-068c-4bef-839d-ea53783657c4",
   "metadata": {
    "tags": []
   },
   "outputs": [
    {
     "data": {
      "text/plain": [
       "a    100\n",
       "b    200\n",
       "c    300\n",
       "d    400\n",
       "e    800\n",
       "dtype: int64"
      ]
     },
     "execution_count": 6,
     "metadata": {},
     "output_type": "execute_result"
    }
   ],
   "source": [
    "data = {'a': 100, 'b': 200, 'c': 300, 'd': 400, 'e': 800}\n",
    "\n",
    "# To convert the dictionary to panda Series\n",
    "s = pd.Series(data)\n",
    "s"
   ]
  },
  {
   "cell_type": "markdown",
   "id": "2da58b96-8a95-4f45-9a3c-730170304d57",
   "metadata": {
    "tags": []
   },
   "source": [
    "6. Write a Pandas program to convet a NumPy array to a Pandas series"
   ]
  },
  {
   "cell_type": "code",
   "execution_count": 7,
   "id": "bcbc05be-1350-4606-8b18-e07cc7a6f455",
   "metadata": {
    "tags": []
   },
   "outputs": [
    {
     "data": {
      "text/plain": [
       "0    10\n",
       "1    20\n",
       "2    30\n",
       "3    40\n",
       "4    50\n",
       "dtype: int32"
      ]
     },
     "execution_count": 7,
     "metadata": {},
     "output_type": "execute_result"
    }
   ],
   "source": [
    "data = np.array([10, 20, 30, 40, 50])\n",
    "\n",
    "s = pd.Series(data)\n",
    "s"
   ]
  },
  {
   "cell_type": "markdown",
   "id": "f0a81b1f-0803-40b9-bb2b-08804b9512c7",
   "metadata": {
    "tags": []
   },
   "source": [
    "7. Write a Pandas program to change the data type of given a column or a Series"
   ]
  },
  {
   "cell_type": "code",
   "execution_count": 8,
   "id": "cec8ff4e-13c7-4a62-8460-b405ce22221f",
   "metadata": {
    "tags": []
   },
   "outputs": [
    {
     "data": {
      "text/plain": [
       "0    100.00\n",
       "1    200.00\n",
       "2       NaN\n",
       "3    300.12\n",
       "4    400.00\n",
       "dtype: float64"
      ]
     },
     "execution_count": 8,
     "metadata": {},
     "output_type": "execute_result"
    }
   ],
   "source": [
    "data = [100, 200, 'python', 300.12, 400]\n",
    "\n",
    "# Convert the data to numeric/float/etc.\n",
    "s = pd.Series(data)\n",
    "\n",
    "converted_s = pd.to_numeric(s, errors='coerce')\n",
    "converted_s"
   ]
  },
  {
   "cell_type": "markdown",
   "id": "b6cd3459-d028-4705-b6dd-40b4fa411738",
   "metadata": {
    "tags": []
   },
   "source": [
    "8. Write a Pandas program to convert the first column of a DataFrame as a series"
   ]
  },
  {
   "cell_type": "code",
   "execution_count": 9,
   "id": "78fdabc7-95e6-4bfd-86c0-ab0239539f28",
   "metadata": {
    "tags": []
   },
   "outputs": [
    {
     "name": "stdout",
     "output_type": "stream",
     "text": [
      "0     1\n",
      "1     2\n",
      "2     3\n",
      "3     4\n",
      "4     7\n",
      "5    11\n",
      "Name: col1, dtype: int64\n",
      "<class 'pandas.core.series.Series'>\n"
     ]
    }
   ],
   "source": [
    "data = {'col1' : [1, 2, 3, 4, 7,11],\n",
    "        'col2' : [4, 5, 6, 9, 5, 0],\n",
    "        'col3' : [7, 5, 8, 12 , 1, 11]}\n",
    "# To create DataFrame based on the given dict data\n",
    "df = pd.DataFrame(data)\n",
    "\n",
    "# To convert the first column of the DataFrame to series\n",
    "s = pd.Series(df.iloc[:,0])\n",
    "print(s)\n",
    "print(type(s))"
   ]
  },
  {
   "cell_type": "markdown",
   "id": "7e196de9-2f24-43eb-8455-84387fe0be73",
   "metadata": {
    "tags": []
   },
   "source": [
    "9. Write a Pandas program to convert a given Series to an array"
   ]
  },
  {
   "cell_type": "code",
   "execution_count": 10,
   "id": "85c549b8-1f7f-4f01-87cf-2fa3709481fd",
   "metadata": {
    "tags": []
   },
   "outputs": [
    {
     "data": {
      "text/plain": [
       "numpy.ndarray"
      ]
     },
     "execution_count": 10,
     "metadata": {},
     "output_type": "execute_result"
    }
   ],
   "source": [
    "data = pd.Series([100, 200, 'python', 300.12, 400])\n",
    "data\n",
    "\n",
    "pd.array(data)\n",
    "s = data.values\n",
    "type(s)"
   ]
  },
  {
   "cell_type": "markdown",
   "id": "8009fdbf-617a-4712-9f55-2e95fb48418f",
   "metadata": {
    "tags": []
   },
   "source": [
    "10. Write a Pandas program to convert Series of lists to one Series"
   ]
  },
  {
   "cell_type": "code",
   "execution_count": 11,
   "id": "07f860ec-af62-4d33-a38a-199b6dc2d824",
   "metadata": {
    "tags": []
   },
   "outputs": [
    {
     "name": "stdout",
     "output_type": "stream",
     "text": [
      "0       Red\n",
      "1     Green\n",
      "2     White\n",
      "3       Red\n",
      "4     Black\n",
      "5    Yellow\n",
      "dtype: object \n",
      "\n",
      "0       Red\n",
      "1     Green\n",
      "2     White\n",
      "3       Red\n",
      "4     Black\n",
      "5    Yellow\n",
      "dtype: object\n"
     ]
    }
   ],
   "source": [
    "data = [['Red', 'Green', 'White'],['Red','Black'],['Yellow']]\n",
    "result = []\n",
    "\n",
    "s = pd.Series(data)\n",
    "\n",
    "# Solution 1\n",
    "# The append() method in the Python programming language adds an item to a list that already exists whereas \n",
    "# extend() method adds each of the iterable elements which is supplied as a parameter to the end of the original list.\n",
    "\n",
    "for i in s:\n",
    "    result.extend(i)\n",
    "\n",
    "s1 = pd.Series(result)\n",
    "print(s1, '\\n')\n",
    "\n",
    "# Solution 2\n",
    "# The apply() method allows you to apply a function along one of the axis of the DataFrame\n",
    "# The .stack() method is then applied to the resulting object. The resulting object will have a hierarchical index with the original index and \n",
    "# a secondary index for each element of the original lists\n",
    "# The .reset_index() method with the 'drop' parameter set to True is then applied to reset the index of the Series object 's' and drop the old index\n",
    "\n",
    "s2 = s.apply(pd.Series).stack().reset_index(drop=True)\n",
    "print(s2)"
   ]
  },
  {
   "cell_type": "markdown",
   "id": "b57e7279-e8d7-4e81-8f70-5d403ad9a1dc",
   "metadata": {},
   "source": [
    "11. Write a Pandas program to sort a given Series"
   ]
  },
  {
   "cell_type": "code",
   "execution_count": 12,
   "id": "2ed6a629-0f23-48ff-b160-e34eb34c1133",
   "metadata": {
    "tags": []
   },
   "outputs": [
    {
     "data": {
      "text/plain": [
       "0       100\n",
       "1       200\n",
       "3    300.12\n",
       "4       400\n",
       "2    python\n",
       "dtype: object"
      ]
     },
     "execution_count": 12,
     "metadata": {},
     "output_type": "execute_result"
    }
   ],
   "source": [
    "data = ['100', '200', 'python', '300.12', '400']\n",
    "\n",
    "# Using the sort_values() to sort the elements. take note on the data type.\n",
    "s1 = pd.Series(data).sort_values()\n",
    "s1"
   ]
  },
  {
   "cell_type": "markdown",
   "id": "9e2ce5dd-b408-413e-9e13-bad939bbf1b5",
   "metadata": {
    "tags": []
   },
   "source": [
    "12. Write a Pandas program to add some data to an existing Series"
   ]
  },
  {
   "cell_type": "code",
   "execution_count": 13,
   "id": "7ccd0e12-5dfd-4a00-bfed-723f72242742",
   "metadata": {
    "tags": []
   },
   "outputs": [
    {
     "data": {
      "text/plain": [
       "0       100\n",
       "1       200\n",
       "2    python\n",
       "3    300.12\n",
       "4       400\n",
       "5       500\n",
       "6       php\n",
       "dtype: object"
      ]
     },
     "execution_count": 13,
     "metadata": {},
     "output_type": "execute_result"
    }
   ],
   "source": [
    "data = ['100', '200', 'python', '300.12', '400']\n",
    "new_data = ['500', 'php']\n",
    "\n",
    "s1 = pd.Series(data)\n",
    "s2 = pd.Series(new_data)\n",
    "\n",
    "# For series, you cant use extend or append to add new data.\n",
    "# use pd.concat() to add data\n",
    "\n",
    "s3 = pd.concat([s1, s2], ignore_index=True)\n",
    "s3"
   ]
  },
  {
   "cell_type": "markdown",
   "id": "ad221902-453b-4add-b883-3089e3c0d512",
   "metadata": {
    "tags": []
   },
   "source": [
    "13. Write a Pandas program to create a subset of a given series based on value and condition."
   ]
  },
  {
   "cell_type": "code",
   "execution_count": 14,
   "id": "8460126a-9f4a-43e8-915b-84dff0024caa",
   "metadata": {
    "tags": []
   },
   "outputs": [
    {
     "data": {
      "text/plain": [
       "0    0\n",
       "1    1\n",
       "2    2\n",
       "3    3\n",
       "4    4\n",
       "5    5\n",
       "dtype: int64"
      ]
     },
     "execution_count": 14,
     "metadata": {},
     "output_type": "execute_result"
    }
   ],
   "source": [
    "s = pd.Series(range(11))\n",
    "s1 = s[:6]\n",
    "s1"
   ]
  },
  {
   "cell_type": "markdown",
   "id": "f1d14f49-b637-4a43-b0c5-3b7928736a07",
   "metadata": {},
   "source": [
    "14. Write a Pandas program to change the order of index of a given series"
   ]
  },
  {
   "cell_type": "code",
   "execution_count": 15,
   "id": "3808dfa0-2666-4cb1-9f6d-e10ae83e599d",
   "metadata": {
    "tags": []
   },
   "outputs": [
    {
     "name": "stdout",
     "output_type": "stream",
     "text": [
      "A    1\n",
      "B    2\n",
      "C    3\n",
      "D    4\n",
      "E    5\n",
      "dtype: int64\n"
     ]
    },
    {
     "data": {
      "text/plain": [
       "B    2\n",
       "A    1\n",
       "C    3\n",
       "D    4\n",
       "E    5\n",
       "dtype: int64"
      ]
     },
     "execution_count": 15,
     "metadata": {},
     "output_type": "execute_result"
    }
   ],
   "source": [
    "data = [1, 2, 3, 4, 5]\n",
    "\n",
    "s = pd.Series(data, index=['A', 'B', 'C', 'D', 'E'])\n",
    "print(s)\n",
    "\n",
    "s[['B', 'A', 'C', 'D', 'E']]"
   ]
  },
  {
   "cell_type": "markdown",
   "id": "8cc4533d-0ba7-4158-babc-4fe8fd85c95e",
   "metadata": {},
   "source": [
    "15. Write a Pandas program to create the mean and standard devisation of the data of a given Series."
   ]
  },
  {
   "cell_type": "code",
   "execution_count": 16,
   "id": "799e8a0d-de6e-4a42-a399-864c4455998b",
   "metadata": {
    "tags": []
   },
   "outputs": [
    {
     "name": "stdout",
     "output_type": "stream",
     "text": [
      "49.18181818181818\n",
      "27.777034333485574\n"
     ]
    }
   ],
   "source": [
    "s = pd.Series(np.random.randint(100, size = 11))\n",
    "mean = s.mean()\n",
    "sd = s.std()\n",
    "\n",
    "print(mean)\n",
    "print(sd)"
   ]
  },
  {
   "cell_type": "markdown",
   "id": "ca7a7a74-b98f-4336-b655-41c2d400b6e5",
   "metadata": {},
   "source": [
    "16. Write a Pandas program to get the items of a given series not present in another given series."
   ]
  },
  {
   "cell_type": "code",
   "execution_count": 17,
   "id": "d22c2f4a-949d-4cd5-9105-f836eacfa890",
   "metadata": {
    "tags": []
   },
   "outputs": [
    {
     "name": "stdout",
     "output_type": "stream",
     "text": [
      "0    1\n",
      "2    3\n",
      "4    5\n",
      "dtype: int64\n",
      "0    1\n",
      "1    3\n",
      "2    5\n",
      "dtype: int64\n"
     ]
    }
   ],
   "source": [
    "# Solution 1\n",
    "s1 = pd.Series([1,2,3,4,5])\n",
    "s2 = pd.Series([2,4,6,8,10])\n",
    "\n",
    "# The sign ~  invert the boolean values. Therefore, it ables to find the value that is not in sr2\n",
    "result = s1[~s1.isin(s2)]\n",
    "print(result)\n",
    "\n",
    "# Solution 2\n",
    "d1 = pd.Series([1,2,3,4,5])\n",
    "d2 = pd.Series([2,4,6,8,10])\n",
    "p = []\n",
    "\n",
    "for x in d1.to_list():\n",
    "    if x not in d2.to_list():\n",
    "        p.append(x)\n",
    "        \n",
    "result = pd.Series(p)\n",
    "print(result)"
   ]
  },
  {
   "cell_type": "markdown",
   "id": "fb59c674-33fb-4c10-8073-89cee32d59d4",
   "metadata": {
    "tags": []
   },
   "source": [
    "17. Write a Pandas program to get the items which are not common of two given series"
   ]
  },
  {
   "cell_type": "code",
   "execution_count": 18,
   "id": "7170eb6e-e504-4441-9ebf-b3cdd5a6d691",
   "metadata": {
    "tags": []
   },
   "outputs": [
    {
     "name": "stdout",
     "output_type": "stream",
     "text": [
      "0     1\n",
      "1     3\n",
      "2     5\n",
      "3     6\n",
      "4     8\n",
      "5    10\n",
      "dtype: int64\n",
      "0     1\n",
      "1     3\n",
      "2     5\n",
      "3     6\n",
      "4     8\n",
      "5    10\n",
      "dtype: int64\n"
     ]
    }
   ],
   "source": [
    "# Solution 1\n",
    "sr1 = pd.Series([1,2,3,4,5])\n",
    "sr2 = pd.Series([2,4,6,8,10])\n",
    "\n",
    "sr3 = pd.Series(np.union1d(sr1, sr2))\n",
    "sr4 = pd.Series(np.intersect1d(sr1, sr2))\n",
    "\n",
    "result = sr3[~sr3.isin(sr4)].reset_index(drop = True)\n",
    "print(result)\n",
    "\n",
    "#Alternate solution\n",
    "sr1 = pd.Series([1,2,3,4,5])\n",
    "sr2 = pd.Series([2,4,6,8,10])\n",
    "\n",
    "data_1 = sr1.to_list()\n",
    "data_2 = sr2.to_list()\n",
    "result = []\n",
    "for i in data_1:\n",
    "    if i not in data_2:\n",
    "        result.append(i)\n",
    "for j in data_2:\n",
    "    if j not in data_1:\n",
    "        result.append(j)\n",
    "\n",
    "final_result = pd.Series(result)\n",
    "print(final_result)"
   ]
  },
  {
   "cell_type": "markdown",
   "id": "523e196c-dcdd-4176-88fc-958e70d19272",
   "metadata": {},
   "source": [
    "18. Write a Pandas program to compute the minimum 25th percentile, median, 75th and maximum of a given series."
   ]
  },
  {
   "cell_type": "code",
   "execution_count": 19,
   "id": "36271bda-2f19-47f0-92a4-90ef10828f74",
   "metadata": {
    "tags": []
   },
   "outputs": [
    {
     "name": "stdout",
     "output_type": "stream",
     "text": [
      " At 0'th percentile the value is 4.39.\n",
      " At 25'th percentile the value is 16.42.\n",
      " At 50'th percentile the value is 52.86.\n",
      " At 75'th percentile the value is 72.71.\n",
      " At 100'th percentile the value is 99.29.\n"
     ]
    }
   ],
   "source": [
    "q = [0, 25, 50, 75, 100]\n",
    "j = 0\n",
    "\n",
    "data = pd.Series(np.random.uniform(0, 100, size=20))\n",
    "\n",
    "result = np.percentile(data, q)\n",
    "                       \n",
    "for i in result:\n",
    "    print(f\" At {q[j]}'th percentile the value is {i:,.2f}.\")\n",
    "    j += 1"
   ]
  },
  {
   "cell_type": "markdown",
   "id": "742cba76-a1ce-4e52-876c-bd2ee30e9480",
   "metadata": {
    "tags": []
   },
   "source": [
    "19. Write a Pandas program to calculate the frequency counts of each unique value of a given series"
   ]
  },
  {
   "cell_type": "code",
   "execution_count": 20,
   "id": "d220a8fa-c9d4-45a3-a5ee-78732b6573f1",
   "metadata": {
    "tags": []
   },
   "outputs": [
    {
     "name": "stdout",
     "output_type": "stream",
     "text": [
      "0     4\n",
      "15    3\n",
      "8     3\n",
      "1     3\n",
      "2     3\n",
      "12    2\n",
      "5     2\n",
      "16    2\n",
      "10    2\n",
      "14    2\n",
      "13    1\n",
      "11    1\n",
      "6     1\n",
      "18    1\n",
      "Name: count, dtype: int64\n",
      "3    7\n",
      "7    5\n",
      "9    5\n",
      "4    5\n",
      "6    4\n",
      "5    4\n",
      "2    4\n",
      "1    3\n",
      "8    2\n",
      "0    1\n",
      "Name: count, dtype: int64\n"
     ]
    }
   ],
   "source": [
    "# Solution 1\n",
    "data = np.random.choice(20, size = 30, replace = True)\n",
    "\n",
    "s = pd.Series(data)\n",
    "\n",
    "print(pd.value_counts(s))\n",
    "\n",
    "# Solution 2\n",
    "num_series = pd.Series(np.take(list('0123456789'), np.random.randint(10, size=40)))\n",
    "result = num_series.value_counts()\n",
    "print(result)"
   ]
  },
  {
   "cell_type": "markdown",
   "id": "bcaa86db-1b9b-441e-89ae-e326a4d0969d",
   "metadata": {},
   "source": [
    "20. Write a Pandaas program to display most frequent value in a given series and replace everything else as 'Other' in the series."
   ]
  },
  {
   "cell_type": "code",
   "execution_count": 45,
   "id": "718019be-5bcf-43a8-afb8-32ad3acab0fa",
   "metadata": {
    "tags": []
   },
   "outputs": [
    {
     "name": "stdout",
     "output_type": "stream",
     "text": [
      "0    4\n",
      "1    4\n",
      "2    3\n",
      "3    2\n",
      "4    2\n",
      "Name: count, dtype: int64\n",
      "0         0\n",
      "1         0\n",
      "2     Other\n",
      "3     Other\n",
      "4         0\n",
      "5     Other\n",
      "6     Other\n",
      "7     Other\n",
      "8     Other\n",
      "9     Other\n",
      "10        0\n",
      "11    Other\n",
      "12    Other\n",
      "13    Other\n",
      "14    Other\n",
      "dtype: object\n",
      "{0: 4, 1: 4, 2: 3, 3: 2, 4: 2}\n",
      "[0, 1]\n",
      "0          0\n",
      "1          0\n",
      "2     Others\n",
      "3     Others\n",
      "4          0\n",
      "5     Others\n",
      "6     Others\n",
      "7     Others\n",
      "8          1\n",
      "9          1\n",
      "10         0\n",
      "11    Others\n",
      "12         1\n",
      "13         1\n",
      "14    Others\n",
      "dtype: object\n"
     ]
    }
   ],
   "source": [
    "# Solution 1\n",
    "data = np.random.choice(5, size = 15, replace = True)\n",
    "s = pd.Series(data)\n",
    "print(s.value_counts())\n",
    "\n",
    "# It find the index number where the value is not equal to 1 and amend it to 'Other'\n",
    "result = s[~s.isin(s.value_counts().index[:1])] = 'Other'\n",
    "print(s)\n",
    "\n",
    "# Solution 2 (This is better as it considers the items with the same number of frequency)\n",
    "s1 = pd.Series(data)\n",
    "count = s1.value_counts().to_dict()\n",
    "print(count)\n",
    "\n",
    "value_counts = {}\n",
    "\n",
    "for key, value in count.items():\n",
    "    # Check if the value is already present in the value_counts dictionary\n",
    "    if value in value_counts:\n",
    "        value_counts[value].append(key)  # Append the key to the list of keys for that value\n",
    "    else:\n",
    "        value_counts[value] = [key]  # Create a new list with the key as its only element\n",
    "\n",
    "first_item = next(iter(value_counts.items()))\n",
    "freq_no = first_item[1]\n",
    "s2 = s1.to_list()\n",
    "print(freq_no)\n",
    "result1 = []\n",
    "for i in s2:\n",
    "    if i not in freq_no:\n",
    "        result1.append(\"Others\")\n",
    "    else:\n",
    "        result1.append(i)\n",
    "        \n",
    "print(pd.Series(result1))"
   ]
  },
  {
   "cell_type": "markdown",
   "id": "c92e1eb3-f651-4f80-a64f-ff32364e35d8",
   "metadata": {
    "tags": []
   },
   "source": [
    "21. Write a Pandas program to find the positions of numbers that are multiples of 5 of a given series."
   ]
  },
  {
   "cell_type": "code",
   "execution_count": 52,
   "id": "fdaed5ed-9045-448e-b385-84ab46b83477",
   "metadata": {
    "tags": []
   },
   "outputs": [
    {
     "name": "stdout",
     "output_type": "stream",
     "text": [
      "0     3\n",
      "1     1\n",
      "2     1\n",
      "3     4\n",
      "4     3\n",
      "5     0\n",
      "6     0\n",
      "7     2\n",
      "8     4\n",
      "9     4\n",
      "10    3\n",
      "11    0\n",
      "12    2\n",
      "13    2\n",
      "14    4\n",
      "15    0\n",
      "16    2\n",
      "17    0\n",
      "18    1\n",
      "19    1\n",
      "dtype: int64\n",
      "[5, 6, 11, 15, 17]\n",
      "Original Series:\n",
      "0    5\n",
      "1    2\n",
      "2    3\n",
      "3    3\n",
      "4    9\n",
      "5    2\n",
      "6    7\n",
      "7    8\n",
      "8    5\n",
      "dtype: int32\n",
      "Positions of numbers that are multiples of 5:\n",
      "(array([0, 8], dtype=int64),)\n"
     ]
    }
   ],
   "source": [
    "# Solution 1\n",
    "data = np.random.choice(30, size = 20, replace = True)\n",
    "s = pd.Series(data)\n",
    "    \n",
    "s1 = s.apply(lambda x: x%5)\n",
    "print(s1)\n",
    "s2 = s1.to_list()\n",
    "\n",
    "\n",
    "def find_indices(list_to_check, item_to_find):\n",
    "    indices = []\n",
    "    for idx, value in enumerate(s2):\n",
    "        if value == item_to_find:\n",
    "            indices.append(idx)\n",
    "    return indices\n",
    "\n",
    "print(find_indices(s2, 0))\n",
    "\n",
    "# Solution 2\n",
    "num_series = pd.Series(np.random.randint(1, 10, 9))\n",
    "print(\"Original Series:\")\n",
    "print(num_series)\n",
    "result = np.where(num_series % 5==0)\n",
    "print(\"Positions of numbers that are multiples of 5:\")\n",
    "print(result)"
   ]
  },
  {
   "cell_type": "markdown",
   "id": "6a75786b-c519-4cc7-8095-193d56cdc93b",
   "metadata": {
    "tags": []
   },
   "source": [
    "22. Write a Pandas program to extract items at given positions of a given series."
   ]
  },
  {
   "cell_type": "code",
   "execution_count": 53,
   "id": "21977998-bb46-4d6a-8468-8dbfde240296",
   "metadata": {},
   "outputs": [
    {
     "name": "stdout",
     "output_type": "stream",
     "text": [
      "Original Series:\n",
      "0     2\n",
      "1     3\n",
      "2     9\n",
      "3     0\n",
      "4     2\n",
      "5     3\n",
      "6     8\n",
      "7     9\n",
      "8     2\n",
      "9     3\n",
      "10    9\n",
      "11    0\n",
      "12    2\n",
      "13    3\n",
      "14    9\n",
      "15    0\n",
      "16    2\n",
      "17    3\n",
      "18    9\n",
      "19    0\n",
      "20    2\n",
      "21    3\n",
      "dtype: object\n",
      "\n",
      "Extract items at given positions of the said series:\n",
      "0     2\n",
      "2     9\n",
      "6     8\n",
      "11    0\n",
      "21    3\n",
      "dtype: object\n"
     ]
    }
   ],
   "source": [
    "num_series = pd.Series(list('2390238923902390239023'))\n",
    "element_pos = [0, 2, 6, 11, 21]\n",
    "print(\"Original Series:\")\n",
    "print(num_series)\n",
    "result = num_series.take(element_pos)\n",
    "print(\"\\nExtract items at given positions of the said series:\")\n",
    "print(result)"
   ]
  },
  {
   "cell_type": "code",
   "execution_count": 54,
   "id": "e32c56c1-7893-475c-9ddf-b7e3953ef540",
   "metadata": {
    "tags": []
   },
   "outputs": [
    {
     "name": "stdout",
     "output_type": "stream",
     "text": [
      "\n",
      "    Take elements from an array along an axis.\n",
      "\n",
      "    When axis is not None, this function does the same thing as \"fancy\"\n",
      "    indexing (indexing arrays using arrays); however, it can be easier to use\n",
      "    if you need elements along a given axis. A call such as\n",
      "    ``np.take(arr, indices, axis=3)`` is equivalent to\n",
      "    ``arr[:,:,:,indices,...]``.\n",
      "\n",
      "    Explained without fancy indexing, this is equivalent to the following use\n",
      "    of `ndindex`, which sets each of ``ii``, ``jj``, and ``kk`` to a tuple of\n",
      "    indices::\n",
      "\n",
      "        Ni, Nk = a.shape[:axis], a.shape[axis+1:]\n",
      "        Nj = indices.shape\n",
      "        for ii in ndindex(Ni):\n",
      "            for jj in ndindex(Nj):\n",
      "                for kk in ndindex(Nk):\n",
      "                    out[ii + jj + kk] = a[ii + (indices[jj],) + kk]\n",
      "\n",
      "    Parameters\n",
      "    ----------\n",
      "    a : array_like (Ni..., M, Nk...)\n",
      "        The source array.\n",
      "    indices : array_like (Nj...)\n",
      "        The indices of the values to extract.\n",
      "\n",
      "        .. versionadded:: 1.8.0\n",
      "\n",
      "        Also allow scalars for indices.\n",
      "    axis : int, optional\n",
      "        The axis over which to select values. By default, the flattened\n",
      "        input array is used.\n",
      "    out : ndarray, optional (Ni..., Nj..., Nk...)\n",
      "        If provided, the result will be placed in this array. It should\n",
      "        be of the appropriate shape and dtype. Note that `out` is always\n",
      "        buffered if `mode='raise'`; use other modes for better performance.\n",
      "    mode : {'raise', 'wrap', 'clip'}, optional\n",
      "        Specifies how out-of-bounds indices will behave.\n",
      "\n",
      "        * 'raise' -- raise an error (default)\n",
      "        * 'wrap' -- wrap around\n",
      "        * 'clip' -- clip to the range\n",
      "\n",
      "        'clip' mode means that all indices that are too large are replaced\n",
      "        by the index that addresses the last element along that axis. Note\n",
      "        that this disables indexing with negative numbers.\n",
      "\n",
      "    Returns\n",
      "    -------\n",
      "    out : ndarray (Ni..., Nj..., Nk...)\n",
      "        The returned array has the same type as `a`.\n",
      "\n",
      "    See Also\n",
      "    --------\n",
      "    compress : Take elements using a boolean mask\n",
      "    ndarray.take : equivalent method\n",
      "    take_along_axis : Take elements by matching the array and the index arrays\n",
      "\n",
      "    Notes\n",
      "    -----\n",
      "\n",
      "    By eliminating the inner loop in the description above, and using `s_` to\n",
      "    build simple slice objects, `take` can be expressed  in terms of applying\n",
      "    fancy indexing to each 1-d slice::\n",
      "\n",
      "        Ni, Nk = a.shape[:axis], a.shape[axis+1:]\n",
      "        for ii in ndindex(Ni):\n",
      "            for kk in ndindex(Nj):\n",
      "                out[ii + s_[...,] + kk] = a[ii + s_[:,] + kk][indices]\n",
      "\n",
      "    For this reason, it is equivalent to (but faster than) the following use\n",
      "    of `apply_along_axis`::\n",
      "\n",
      "        out = np.apply_along_axis(lambda a_1d: a_1d[indices], axis, a)\n",
      "\n",
      "    Examples\n",
      "    --------\n",
      "    >>> a = [4, 3, 5, 7, 6, 8]\n",
      "    >>> indices = [0, 1, 4]\n",
      "    >>> np.take(a, indices)\n",
      "    array([4, 3, 6])\n",
      "\n",
      "    In this example if `a` is an ndarray, \"fancy\" indexing can be used.\n",
      "\n",
      "    >>> a = np.array(a)\n",
      "    >>> a[indices]\n",
      "    array([4, 3, 6])\n",
      "\n",
      "    If `indices` is not one dimensional, the output also has these dimensions.\n",
      "\n",
      "    >>> np.take(a, [[0, 1], [2, 3]])\n",
      "    array([[4, 3],\n",
      "           [5, 7]])\n",
      "    \n"
     ]
    }
   ],
   "source": [
    "explain(np.take)"
   ]
  },
  {
   "cell_type": "markdown",
   "id": "1f6ed20a-8f0c-4529-9202-dff2426ef687",
   "metadata": {},
   "source": [
    "23. Write a Pandas program to get the positions of items of a given series in another given series."
   ]
  },
  {
   "cell_type": "code",
   "execution_count": 24,
   "id": "f80073df-0bc7-479d-85a9-c3393e6e2f59",
   "metadata": {},
   "outputs": [
    {
     "name": "stdout",
     "output_type": "stream",
     "text": [
      "0\n",
      "2\n",
      "4\n",
      "6\n",
      "9\n",
      "Original Series:\n",
      "0     1\n",
      "1     2\n",
      "2     3\n",
      "3     4\n",
      "4     5\n",
      "5     6\n",
      "6     7\n",
      "7     8\n",
      "8     9\n",
      "9    10\n",
      "dtype: int64\n",
      "0     1\n",
      "1     3\n",
      "2     5\n",
      "3     7\n",
      "4    10\n",
      "dtype: int64\n",
      "Positions of items of series2 in series1:\n",
      "[0, 2, 4, 6, 9]\n"
     ]
    }
   ],
   "source": [
    "# Solution 1\n",
    "s = pd.Series(range(1,11))\n",
    "s_list = s.to_list()\n",
    "s_list\n",
    "\n",
    "# Without duplication\n",
    "find_values = [1, 3, 5, 7, 10]\n",
    "for i in find_values:\n",
    "    if i in s_list:\n",
    "        print(s_list.index(i))\n",
    "        \n",
    "# Solution 2\n",
    "series1 = pd.Series([1, 2, 3, 4, 5, 6, 7, 8, 9, 10])\n",
    "series2 = pd.Series([1, 3, 5, 7, 10])\n",
    "print(\"Original Series:\")\n",
    "print(series1)\n",
    "print(series2)\n",
    "result = [pd.Index(series1).get_loc(i) for i in series2]\n",
    "print(\"Positions of items of series2 in series1:\")\n",
    "print(result)"
   ]
  },
  {
   "cell_type": "markdown",
   "id": "5c0e0935-ceec-4cb8-b68e-96df4965c655",
   "metadata": {},
   "source": [
    "24. Write a Pandas program convert the first and last character of each word to upper case in each word of a given series."
   ]
  },
  {
   "cell_type": "code",
   "execution_count": 25,
   "id": "46e10891-2aec-4126-a834-6a4f135ab8be",
   "metadata": {
    "tags": []
   },
   "outputs": [
    {
     "name": "stdout",
     "output_type": "stream",
     "text": [
      "0       PhP\n",
      "1    PythoN\n",
      "2      JavA\n",
      "3        C#\n",
      "dtype: object\n",
      "\n",
      "First and last character of each word to upper case:\n",
      "0       PhP\n",
      "1    PythoN\n",
      "2      JavA\n",
      "3        C#\n",
      "dtype: object\n"
     ]
    }
   ],
   "source": [
    "# Solution 1\n",
    "s1 = pd.Series(['php', 'python', 'java', 'c#'])\n",
    "lst = []\n",
    "\n",
    "for i in s1:\n",
    "    lst.append(i[0].upper() + i[1:-1] + i[-1].upper())\n",
    "\n",
    "result = pd.Series(lst)\n",
    "print(result)\n",
    "\n",
    "# Solution 2\n",
    "series1 = pd.Series(['php', 'python', 'java', 'c#'])\n",
    "result = series1.map(lambda x: x[0].upper() + x[1:-1] + x[-1].upper())\n",
    "print(\"\\nFirst and last character of each word to upper case:\")\n",
    "print(result)"
   ]
  },
  {
   "cell_type": "markdown",
   "id": "e161a7a6-b24d-46c4-ae7e-246f807b1f9c",
   "metadata": {
    "tags": []
   },
   "source": [
    "26. Write a Pandas program to compute difference of differences between numbers of a given series"
   ]
  },
  {
   "cell_type": "code",
   "execution_count": 26,
   "id": "b51ae01c-cb4b-4c74-858a-e71e1275712c",
   "metadata": {
    "tags": []
   },
   "outputs": [
    {
     "name": "stdout",
     "output_type": "stream",
     "text": [
      "Original Series:\n",
      "0     1\n",
      "1     3\n",
      "2     5\n",
      "3     8\n",
      "4    10\n",
      "5    11\n",
      "6    15\n",
      "dtype: int64\n",
      "\n",
      "Difference of differences between consecutive numbers of the said series:\n",
      "[nan, 2.0, 2.0, 3.0, 2.0, 1.0, 4.0]\n",
      "[nan, nan, 0.0, 1.0, -1.0, -1.0, 3.0]\n"
     ]
    }
   ],
   "source": [
    "# Solution 1\n",
    "s = pd.Series([1, 3, 5, 8, 10, 11, 15])\n",
    "\n",
    "print(\"Original Series:\")\n",
    "print(s)\n",
    "\n",
    "print(\"\\nDifference of differences between consecutive numbers of the said series:\")\n",
    "print(s.diff().tolist())\n",
    "print(s.diff().diff().tolist())\n"
   ]
  },
  {
   "cell_type": "markdown",
   "id": "4e7b1d04-a470-46a4-9685-33cc6512071a",
   "metadata": {},
   "source": [
    "27. Write a Pandas program to convert a series of data strings to a timeseries"
   ]
  },
  {
   "cell_type": "code",
   "execution_count": 27,
   "id": "53dbebd6-5e8a-485a-a1c9-de8be4e34fa9",
   "metadata": {
    "tags": []
   },
   "outputs": [
    {
     "name": "stdout",
     "output_type": "stream",
     "text": [
      "0         01 Jan 2015\n",
      "1          10-02-2016\n",
      "2            20180307\n",
      "3          2014/05/06\n",
      "4          2016-04-12\n",
      "5    2019-04-06T11:20\n",
      "dtype: object\n"
     ]
    },
    {
     "data": {
      "text/plain": [
       "0   2015-01-01 00:00:00\n",
       "1   2016-10-02 00:00:00\n",
       "2   2018-03-07 00:00:00\n",
       "3   2014-05-06 00:00:00\n",
       "4   2016-04-12 00:00:00\n",
       "5   2019-04-06 11:20:00\n",
       "dtype: datetime64[ns]"
      ]
     },
     "execution_count": 27,
     "metadata": {},
     "output_type": "execute_result"
    }
   ],
   "source": [
    "date_series = pd.Series(['01 Jan 2015', '10-02-2016', '20180307', '2014/05/06', '2016-04-12', '2019-04-06T11:20'])\n",
    "print(date_series)\n",
    "\n",
    "pd.to_datetime(date_series, format = 'mixed')"
   ]
  },
  {
   "cell_type": "markdown",
   "id": "6bef9d0e-c3ad-49d3-aea1-1ec6448e1363",
   "metadata": {},
   "source": [
    "28. Write a Pandas program to get the day of month, day of year, week number and day of week from a given series of date strings"
   ]
  },
  {
   "cell_type": "code",
   "execution_count": 28,
   "id": "ef8cb306-6eb0-4962-85ef-7d45b3a09612",
   "metadata": {
    "tags": []
   },
   "outputs": [
    {
     "name": "stdout",
     "output_type": "stream",
     "text": [
      "0   2015-01-01 00:00:00\n",
      "1   2016-10-02 00:00:00\n",
      "2   2018-03-07 00:00:00\n",
      "3   2014-05-06 00:00:00\n",
      "4   2016-04-12 00:00:00\n",
      "5   2019-04-06 11:20:00\n",
      "dtype: datetime64[ns]\n",
      "                 Date  Day of Month  Day of Year  Week Number  Day of Week\n",
      "0 2015-01-01 00:00:00             1            1            1            3\n",
      "1 2016-10-02 00:00:00             2          276           39            6\n",
      "2 2018-03-07 00:00:00             7           66           10            2\n",
      "3 2014-05-06 00:00:00             6          126           19            1\n",
      "4 2016-04-12 00:00:00            12          103           15            1\n",
      "5 2019-04-06 11:20:00             6           96           14            5\n"
     ]
    }
   ],
   "source": [
    "import datetime as dt\n",
    "\n",
    "# Create a sample series of date strings\n",
    "date_strings = pd.Series(['01 Jan 2015', '10-02-2016', '20180307', '2014/05/06', '2016-04-12', '2019-04-06T11:20'])\n",
    "\n",
    "# Convert the date strings to datetime objects\n",
    "dates = pd.to_datetime(date_strings, format = 'mixed')\n",
    "print(dates)\n",
    "\n",
    "# Extract the desired information\n",
    "day_of_month = dates.dt.day\n",
    "day_of_year = dates.dt.dayofyear\n",
    "week_number = dates.dt.isocalendar().week\n",
    "day_of_week = dates.dt.dayofweek\n",
    "\n",
    "# Create a DataFrame to store the results\n",
    "result = pd.DataFrame({\n",
    "    'Date': dates,\n",
    "    'Day of Month': day_of_month,\n",
    "    'Day of Year': day_of_year,\n",
    "    'Week Number': week_number,\n",
    "    'Day of Week': day_of_week\n",
    "})\n",
    "\n",
    "# Display the result\n",
    "print(result)\n"
   ]
  },
  {
   "cell_type": "markdown",
   "id": "9aa7f7b9-39b6-425e-8a57-3db47ca31b0d",
   "metadata": {},
   "source": [
    "29. Write a Pandas program to convet year-month string to dates adding a specified day of the month"
   ]
  },
  {
   "cell_type": "code",
   "execution_count": 29,
   "id": "8e35fa0f-2e37-40ac-9648-210b46e189e5",
   "metadata": {
    "tags": []
   },
   "outputs": [
    {
     "name": "stdout",
     "output_type": "stream",
     "text": [
      "0   2015-01-11\n",
      "1   2016-02-11\n",
      "2   2017-03-11\n",
      "3   2018-04-11\n",
      "4   2019-05-11\n",
      "dtype: datetime64[ns]\n"
     ]
    }
   ],
   "source": [
    "from dateutil.parser import parse\n",
    "\n",
    "date_series = pd.Series(['Jan 2015', 'Feb 2016', 'Mar 2017', 'Apr 2018', 'May 2019'])\n",
    "\n",
    "result = date_series.map(lambda d: parse('11' + d))\n",
    "print(result)"
   ]
  },
  {
   "cell_type": "markdown",
   "id": "19c5c56c-1421-470b-bedf-9be6582be2c3",
   "metadata": {
    "tags": []
   },
   "source": [
    "30. Write a Pandas program to filter words from a given series that contain at least two vowels"
   ]
  },
  {
   "cell_type": "code",
   "execution_count": 30,
   "id": "cc7a5b8d-327c-4b15-bc71-135f7a3bd270",
   "metadata": {
    "tags": []
   },
   "outputs": [
    {
     "name": "stdout",
     "output_type": "stream",
     "text": [
      "Original Series:\n",
      "0       Red\n",
      "1     Green\n",
      "2    Orange\n",
      "3      Pink\n",
      "4    Yellow\n",
      "5     White\n",
      "dtype: object\n",
      "\n",
      "Filtered words:\n",
      "1     Green\n",
      "2    Orange\n",
      "4    Yellow\n",
      "5     White\n",
      "dtype: object\n"
     ]
    }
   ],
   "source": [
    "import pandas as pd\n",
    "from collections import Counter\n",
    "\n",
    "color_series = pd.Series(['Red', 'Green', 'Orange', 'Pink', 'Yellow', 'White'])\n",
    "print(\"Original Series:\")\n",
    "print(color_series)\n",
    "print(\"\\nFiltered words:\")\n",
    "result =color_series.map(lambda c: sum([Counter(c.lower()).get(i, 0) for i in list('aeiou')]) >= 2)\n",
    "print(color_series[result])"
   ]
  },
  {
   "cell_type": "markdown",
   "id": "b4f5e6ad-9714-4d37-aa81-9e39657a169f",
   "metadata": {},
   "source": [
    "31. Write a Pandas program to compute the Euclidean distance between two given series. Euclidean distance From Wikipedia,In mathematics, the Euclidean distance or Euclidean metric is the \"ordinary\" straight-line distance between two points in Euclidean space. With this distance, Euclidean space becomes a metric space. The associated norm is called the Euclidean norm"
   ]
  },
  {
   "cell_type": "code",
   "execution_count": 31,
   "id": "96a13088-4403-473d-80e6-0a1f07938252",
   "metadata": {
    "tags": []
   },
   "outputs": [
    {
     "name": "stdout",
     "output_type": "stream",
     "text": [
      "Original series:\n",
      "0     1\n",
      "1     2\n",
      "2     3\n",
      "3     4\n",
      "4     5\n",
      "5     6\n",
      "6     7\n",
      "7     8\n",
      "8     9\n",
      "9    10\n",
      "dtype: int64\n",
      "0    11\n",
      "1     8\n",
      "2     7\n",
      "3     5\n",
      "4     6\n",
      "5     5\n",
      "6     3\n",
      "7     4\n",
      "8     7\n",
      "9     1\n",
      "dtype: int64\n",
      "\n",
      "Euclidean distance between two said series:\n",
      "16.492422502470642\n"
     ]
    }
   ],
   "source": [
    "import pandas as pd\n",
    "import numpy as np\n",
    "x = pd.Series([1, 2, 3, 4, 5, 6, 7, 8, 9, 10])\n",
    "y = pd.Series([11, 8, 7, 5, 6, 5, 3, 4, 7, 1])\n",
    "print(\"Original series:\")\n",
    "print(x)\n",
    "print(y)\n",
    "print(\"\\nEuclidean distance between two said series:\")\n",
    "print(np.linalg.norm(x-y))"
   ]
  },
  {
   "attachments": {
    "8156a6dc-8929-42ac-9b3b-166b22386dd7.png": {
     "image/png": "[encoded data removed]"
    }
   },
   "cell_type": "markdown",
   "id": "bb84e5a9-ebc7-4e11-9862-374019f7ac33",
   "metadata": {
    "tags": []
   },
   "source": [
    "32. Write a Pandas program to find the positions of the values neighboured by smaller values on both sides in a given series.\n",
    "\n",
    "![image.png](attachment:8156a6dc-8929-42ac-9b3b-166b22386dd7.png)"
   ]
  },
  {
   "cell_type": "code",
   "execution_count": 33,
   "id": "1d1d8ee2-da51-48ca-b4ba-adaeaa9f1a07",
   "metadata": {
    "tags": []
   },
   "outputs": [
    {
     "name": "stdout",
     "output_type": "stream",
     "text": [
      "Original series:\n",
      "0    1\n",
      "1    8\n",
      "2    7\n",
      "3    5\n",
      "4    6\n",
      "5    5\n",
      "6    3\n",
      "7    4\n",
      "8    7\n",
      "9    1\n",
      "dtype: int64\n",
      "\n",
      "Positions of the values surrounded by smaller values on both sides:\n",
      "[1 4 8]\n"
     ]
    }
   ],
   "source": [
    "import pandas as pd\n",
    "import numpy as np\n",
    "nums = pd.Series([1, 8, 7, 5, 6, 5, 3, 4, 7, 1])\n",
    "print(\"Original series:\")\n",
    "print(nums)\n",
    "print(\"\\nPositions of the values surrounded by smaller values on both sides:\")\n",
    "temp = np.diff(np.sign(np.diff(nums)))\n",
    "result = np.where(temp == -2)[0] + 1\n",
    "print(result)"
   ]
  },
  {
   "cell_type": "markdown",
   "id": "fa23d30d-5cb6-47c3-951b-610009d7c212",
   "metadata": {
    "tags": []
   },
   "source": [
    "33. Write a Pandas program to replace missing white spaces in a given string with the least freqent character"
   ]
  },
  {
   "cell_type": "code",
   "execution_count": 57,
   "id": "2f3f4819-b727-42e1-bb84-07a8fd71cc57",
   "metadata": {
    "tags": []
   },
   "outputs": [
    {
     "name": "stdout",
     "output_type": "stream",
     "text": [
      "Original series:\n",
      "abc def abcdef icd\n",
      "c    3\n",
      "     3\n",
      "d    3\n",
      "a    2\n",
      "b    2\n",
      "e    2\n",
      "f    2\n",
      "i    1\n",
      "Name: count, dtype: int64\n",
      "i\n",
      "abcidefiabcdefiicd\n"
     ]
    }
   ],
   "source": [
    "str1 = 'abc def abcdef icd'\n",
    "\n",
    "print(\"Original series:\")\n",
    "print(str1)\n",
    "\n",
    "ser = pd.Series(list(str1))\n",
    "\n",
    "element_freq = ser.value_counts()\n",
    "print(element_freq)\n",
    "\n",
    "current_freq = element_freq.dropna().index[-1]\n",
    "\n",
    "result = \"\".join(ser.replace(' ', current_freq))\n",
    "print(result)"
   ]
  },
  {
   "cell_type": "markdown",
   "id": "a7a590b7-606a-42c7-a483-844fc57ee058",
   "metadata": {},
   "source": [
    "34. Write a Pandas program to compute the autocorrelations of a given numeric series. From Wikipedia: Autocorrelation, also known as serial correlation, is the correlation of a signal with a delayed copy of itself as a function of delay. Informally, it is the similarity between observations as a function of the time lag between them"
   ]
  },
  {
   "cell_type": "code",
   "execution_count": 35,
   "id": "3c9de16b-6c10-4637-ad37-d901272fda81",
   "metadata": {
    "tags": []
   },
   "outputs": [
    {
     "name": "stdout",
     "output_type": "stream",
     "text": [
      "Original series:\n",
      "0      9.426264\n",
      "1      9.401368\n",
      "2     13.057579\n",
      "3     11.925327\n",
      "4     25.942680\n",
      "5    -10.749101\n",
      "6     23.961973\n",
      "7     -0.454200\n",
      "8     13.652709\n",
      "9     15.725473\n",
      "10    13.394969\n",
      "11    20.097713\n",
      "12    18.291137\n",
      "13    17.432850\n",
      "14    24.366810\n",
      "dtype: float64\n",
      "\n",
      "Autocorrelations of the said series:\n",
      "[-0.5, 0.49, -0.09, -0.04, 0.11, -0.12, -0.07, 0.38, -0.58, 0.8]\n"
     ]
    }
   ],
   "source": [
    "num_series = pd.Series(np.arange(15) + np.random.normal(1, 10, 15))\n",
    "\n",
    "print(\"Original series:\")\n",
    "print(num_series)\n",
    "\n",
    "autocorrelations = [num_series.autocorr(i).round(2) for i in range(11)]\n",
    "print(\"\\nAutocorrelations of the said series:\")\n",
    "print(autocorrelations[1:])\n"
   ]
  },
  {
   "cell_type": "markdown",
   "id": "966a59be-4c4d-430f-92b2-744bf521681e",
   "metadata": {},
   "source": [
    "35. Write a Pandas program to create a TimeSeries to display all the Sundays of given year"
   ]
  },
  {
   "cell_type": "code",
   "execution_count": 36,
   "id": "28b28b74-6a48-4766-8619-c103f14caf6f",
   "metadata": {
    "tags": []
   },
   "outputs": [
    {
     "name": "stdout",
     "output_type": "stream",
     "text": [
      "All Sundays of 2019:\n",
      "0    2020-01-05\n",
      "1    2020-01-12\n",
      "2    2020-01-19\n",
      "3    2020-01-26\n",
      "4    2020-02-02\n",
      "5    2020-02-09\n",
      "6    2020-02-16\n",
      "7    2020-02-23\n",
      "8    2020-03-01\n",
      "9    2020-03-08\n",
      "10   2020-03-15\n",
      "11   2020-03-22\n",
      "12   2020-03-29\n",
      "13   2020-04-05\n",
      "14   2020-04-12\n",
      "15   2020-04-19\n",
      "16   2020-04-26\n",
      "17   2020-05-03\n",
      "18   2020-05-10\n",
      "19   2020-05-17\n",
      "20   2020-05-24\n",
      "21   2020-05-31\n",
      "22   2020-06-07\n",
      "23   2020-06-14\n",
      "24   2020-06-21\n",
      "25   2020-06-28\n",
      "26   2020-07-05\n",
      "27   2020-07-12\n",
      "28   2020-07-19\n",
      "29   2020-07-26\n",
      "30   2020-08-02\n",
      "31   2020-08-09\n",
      "32   2020-08-16\n",
      "33   2020-08-23\n",
      "34   2020-08-30\n",
      "35   2020-09-06\n",
      "36   2020-09-13\n",
      "37   2020-09-20\n",
      "38   2020-09-27\n",
      "39   2020-10-04\n",
      "40   2020-10-11\n",
      "41   2020-10-18\n",
      "42   2020-10-25\n",
      "43   2020-11-01\n",
      "44   2020-11-08\n",
      "45   2020-11-15\n",
      "46   2020-11-22\n",
      "47   2020-11-29\n",
      "48   2020-12-06\n",
      "49   2020-12-13\n",
      "50   2020-12-20\n",
      "51   2020-12-27\n",
      "dtype: datetime64[ns]\n"
     ]
    }
   ],
   "source": [
    "result = pd.Series(pd.date_range('2020-01-01', periods=52, freq='W-SUN'))\n",
    "\n",
    "print(\"All Sundays of 2019:\")\n",
    "print(result)\n"
   ]
  },
  {
   "cell_type": "markdown",
   "id": "2f7a2fdc-b402-45d5-bd09-f96890969cf7",
   "metadata": {},
   "source": [
    "36. Write a Pandas program to convert given series into a dataframe with its index as another column on the dataframe."
   ]
  },
  {
   "cell_type": "code",
   "execution_count": 37,
   "id": "89d0d192-70f8-4d5e-a192-126102fccc4c",
   "metadata": {
    "tags": []
   },
   "outputs": [
    {
     "name": "stdout",
     "output_type": "stream",
     "text": [
      "  index  0\n",
      "0     A  0\n",
      "1     B  1\n",
      "2     C  2\n",
      "3     D  3\n",
      "4     E  4\n"
     ]
    }
   ],
   "source": [
    "char_list = list('ABCDEFGHIJKLMNOP')\n",
    "\n",
    "num_arra = np.arange(8)\n",
    "num_dict = dict(zip(char_list, num_arra))\n",
    "num_ser = pd.Series(num_dict)\n",
    "df = num_ser.to_frame().reset_index()\n",
    "print(df.head())"
   ]
  },
  {
   "cell_type": "markdown",
   "id": "aa421ec2-fe4d-4af2-a883-8e242d98a719",
   "metadata": {},
   "source": [
    "37. Write a Pandas program to stack two given series vertically and horizontally."
   ]
  },
  {
   "cell_type": "code",
   "execution_count": 83,
   "id": "ddc338fe-b6d6-4c24-bc6f-0fb8299e568a",
   "metadata": {
    "tags": []
   },
   "outputs": [
    {
     "name": "stdout",
     "output_type": "stream",
     "text": [
      "Original Series:\n",
      "0    0\n",
      "1    1\n",
      "2    2\n",
      "3    3\n",
      "4    4\n",
      "5    5\n",
      "6    6\n",
      "7    7\n",
      "8    8\n",
      "9    9\n",
      "dtype: int64\n",
      "0    p\n",
      "1    q\n",
      "2    r\n",
      "3    s\n",
      "4    t\n",
      "5    u\n",
      "6    v\n",
      "7    w\n",
      "8    x\n",
      "9    y\n",
      "dtype: object\n",
      "0     0\n",
      "1     1\n",
      "2     2\n",
      "3     3\n",
      "4     4\n",
      "5     5\n",
      "6     6\n",
      "7     7\n",
      "8     8\n",
      "9     9\n",
      "10    p\n",
      "11    q\n",
      "12    r\n",
      "13    s\n",
      "14    t\n",
      "15    u\n",
      "16    v\n",
      "17    w\n",
      "18    x\n",
      "19    y\n",
      "dtype: object\n",
      "0     0\n",
      "1     1\n",
      "2     2\n",
      "3     3\n",
      "4     4\n",
      "5     5\n",
      "6     6\n",
      "7     7\n",
      "8     8\n",
      "9     9\n",
      "10    p\n",
      "11    q\n",
      "12    r\n",
      "13    s\n",
      "14    t\n",
      "15    u\n",
      "16    v\n",
      "17    w\n",
      "18    x\n",
      "19    y\n",
      "dtype: object\n",
      "\n",
      "Stack two given series horizontally:\n",
      "   0  1\n",
      "0  0  p\n",
      "1  1  q\n",
      "2  2  r\n",
      "3  3  s\n",
      "4  4  t\n",
      "5  5  u\n",
      "6  6  v\n",
      "7  7  w\n",
      "8  8  x\n",
      "9  9  y\n"
     ]
    }
   ],
   "source": [
    "series1 = pd.Series(range(10))\n",
    "series2 = pd.Series(list('pqrstuvwxy'))\n",
    "\n",
    "print(\"Original Series:\")\n",
    "print(series1)\n",
    "print(series2)\n",
    "\n",
    "# Method 1 for stacking two series vertically\n",
    "d1 = series1.to_list()\n",
    "d2 = series2.to_list()\n",
    "df1 = d1 + d2\n",
    "print(pd.Series(df1))\n",
    "\n",
    "# Method 2 for stacking two series vertically\n",
    "df1a = pd.concat([series1, series2], ignore_index=True)\n",
    "print(df1a)\n",
    "\n",
    "df2 = pd.concat([series1, series2], axis=1)\n",
    "print(\"\\nStack two given series horizontally:\")\n",
    "print(df2)"
   ]
  },
  {
   "cell_type": "markdown",
   "id": "6e936182-531f-4f2d-a91c-0c94893c459c",
   "metadata": {},
   "source": [
    "38. Write a Pandas program to check the equality of two given series."
   ]
  },
  {
   "cell_type": "code",
   "execution_count": null,
   "id": "011403c1-f5ab-464a-aab8-f37403616cbb",
   "metadata": {
    "tags": []
   },
   "outputs": [],
   "source": [
    "nums1 = pd.Series([1, 8, 7, 5, 6, 5, 3, 4, 7, 1])\n",
    "nums2 = pd.Series([1, 8, 7, 5, 6, 5, 3, 4, 7, 1])\n",
    "\n",
    "print(\"Original Series:\")\n",
    "print(nums1)\n",
    "print(nums2)\n",
    "\n",
    "print(\"Check 2 series are equal or not?\")\n",
    "print(nums1 == nums2)"
   ]
  },
  {
   "cell_type": "markdown",
   "id": "263008c3-0457-48b9-9ed2-093eb9f2d2cd",
   "metadata": {},
   "source": [
    "39. Write a Pandas program to find the index of the first occurrence of the smallest and largest value of a given series"
   ]
  },
  {
   "cell_type": "code",
   "execution_count": 85,
   "id": "a640865a-e8dd-45d9-b82a-7282f551a684",
   "metadata": {
    "tags": []
   },
   "outputs": [
    {
     "name": "stdout",
     "output_type": "stream",
     "text": [
      "Original Series:\n",
      "0     1\n",
      "1     3\n",
      "2     7\n",
      "3    12\n",
      "4    88\n",
      "5    23\n",
      "6     3\n",
      "7     1\n",
      "8     9\n",
      "9     0\n",
      "dtype: int64\n",
      "Index of the first occurrence of the smallest and largest value of the said series:\n",
      "4\n",
      "9\n"
     ]
    }
   ],
   "source": [
    "nums = pd.Series([1, 3, 7, 12, 88, 23, 3, 1, 9, 0])\n",
    "\n",
    "print(\"Original Series:\")\n",
    "print(nums)\n",
    "\n",
    "print(\"Index of the first occurrence of the smallest and largest value of the said series:\")\n",
    "print(nums.idxmax())\n",
    "print(nums.idxmin())"
   ]
  },
  {
   "cell_type": "markdown",
   "id": "3f1a40cf-dec2-41b1-b32a-b1087d4d561c",
   "metadata": {},
   "source": [
    "40. Write a Pandas program to check inequality over the index axis of a given dataframe and a given series. "
   ]
  },
  {
   "cell_type": "code",
   "execution_count": null,
   "id": "c2882e9b-2f4d-4f58-b51d-f6fa19b6acde",
   "metadata": {},
   "outputs": [],
   "source": [
    "df_data = pd.DataFrame({'W':[68,75,86,80,None],'X':[78,75,None,80,86], 'Y':[84,94,89,86,86],'Z':[86,97,96,72,83]});\n",
    "sr_data = pd.Series([68, 75, 86, 80, None]) \n",
    "\n",
    "print(\"Original DataFrame:\")\n",
    "print(df_data)\n",
    "\n",
    "print(\"\\nOriginal Series:\")\n",
    "print(sr_data)\n",
    "\n",
    "print(\"\\nCheck for inequality of the said series & dataframe:\")\n",
    "print(df_data.ne(sr_data, axis = 0))\n"
   ]
  }
 ],
 "metadata": {
  "kernelspec": {
   "display_name": "Python 3 (ipykernel)",
   "language": "python",
   "name": "python3"
  },
  "language_info": {
   "codemirror_mode": {
    "name": "ipython",
    "version": 3
   },
   "file_extension": ".py",
   "mimetype": "text/x-python",
   "name": "python",
   "nbconvert_exporter": "python",
   "pygments_lexer": "ipython3",
   "version": "3.11.3"
  },
  "toc-autonumbering": false
 },
 "nbformat": 4,
 "nbformat_minor": 5
}
